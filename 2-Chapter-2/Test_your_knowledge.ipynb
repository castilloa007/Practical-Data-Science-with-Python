{
 "cells": [
  {
   "cell_type": "markdown",
   "metadata": {},
   "source": [
    "This notebook will help you practice some of the skills and concepts you learned in chapter 2 of the book:\n",
    "- Strings, Numbers\n",
    "- Variables\n",
    "- Lists, Sets, Dictionaries\n",
    "- Loops and list comprehensions\n",
    "- Control Flow\n",
    "- Functions\n",
    "- Classes\n",
    "- Packages/Modules\n",
    "- Debugging an error\n",
    "- Using documentation"
   ]
  },
  {
   "cell_type": "markdown",
   "metadata": {},
   "source": [
    "Here we have some data on the number of books read by different people who work at Bob's Book Emporium. Create Python code that loops through each of the people and prints out how many books they have read. If someone has read 0 books, print out \"___ has not read any books!\" instead of the number of books."
   ]
  },
  {
   "cell_type": "code",
   "execution_count": 2,
   "metadata": {
    "ExecuteTime": {
     "end_time": "2023-11-13T02:11:57.153034Z",
     "start_time": "2023-11-13T02:11:57.084350Z"
    }
   },
   "outputs": [],
   "source": [
    "people = ['Krishnang', 'Steve', 'Jimmy', 'Mary', 'Divya', 'Robert', 'Yulia']\n",
    "books_read = [12, 6, 0, 7, 4, 10, 15]"
   ]
  },
  {
   "cell_type": "markdown",
   "metadata": {},
   "source": [
    "There are several ways to solve this -- you could look at the `zip()` function, use `enumerate()`, use `range` and `len`, or use other methods. To print the names and values, you can use string concatenation (+), f-string formatting, or other methods."
   ]
  },
  {
   "cell_type": "code",
   "execution_count": 3,
   "metadata": {
    "ExecuteTime": {
     "end_time": "2023-11-13T02:12:02.539985Z",
     "start_time": "2023-11-13T02:12:02.474259Z"
    }
   },
   "outputs": [
    {
     "name": "stdout",
     "output_type": "stream",
     "text": [
      "Krishnang has read 12 books\n",
      "Steve has read 6 books\n",
      "Jimmy has not read any books!\n",
      "Mary has read 7 books\n",
      "Divya has read 4 books\n",
      "Robert has read 10 books\n",
      "Yulia has read 15 books\n"
     ]
    }
   ],
   "source": [
    "for b, p in zip(books_read, people):\n",
    "    if b == 0:\n",
    "        print(f'{p} has not read any books!')\n",
    "    else:\n",
    "        print(f'{p} has read {b} books')"
   ]
  },
  {
   "cell_type": "markdown",
   "metadata": {},
   "source": [
    "Turn the loop we just created into a function that takes the two lists (books read and people) as arguments. Be sure to try out your function to make sure it works."
   ]
  },
  {
   "cell_type": "code",
   "execution_count": 4,
   "metadata": {
    "ExecuteTime": {
     "end_time": "2023-11-13T02:12:07.903388Z",
     "start_time": "2023-11-13T02:12:07.843433Z"
    }
   },
   "outputs": [
    {
     "name": "stdout",
     "output_type": "stream",
     "text": [
      "Krishnang has read 12 books\n",
      "Steve has read 6 books\n",
      "Jimmy has not read any books!\n",
      "Mary has read 7 books\n",
      "Divya has read 4 books\n",
      "Robert has read 10 books\n",
      "Yulia has read 15 books\n"
     ]
    }
   ],
   "source": [
    "def print_books(books_read, people):\n",
    "    for b, p in zip(books_read, people):\n",
    "        if b == 0:\n",
    "            print(f'{p} has not read any books!')\n",
    "        else:\n",
    "            print(f'{p} has read {b} books')\n",
    "            \n",
    "print_books(books_read, people)\n"
   ]
  },
  {
   "cell_type": "markdown",
   "metadata": {},
   "source": [
    "Challenge: Sort the values of `books_read` from greatest to least and print the top three people with the number of books  they have read. This is a tougher problem. Some possible ways to solve it include using NumPy's argsort, creating a dictionary, and creating tuples."
   ]
  },
  {
   "cell_type": "code",
   "execution_count": 5,
   "metadata": {
    "ExecuteTime": {
     "end_time": "2023-11-13T02:19:01.167702Z",
     "start_time": "2023-11-13T02:19:01.094822Z"
    }
   },
   "outputs": [
    {
     "name": "stdout",
     "output_type": "stream",
     "text": [
      "Yulia has read 15 books\n",
      "Krishnang has read 12 books\n",
      "Robert has read 10 books\n"
     ]
    }
   ],
   "source": [
    "#Create a dictionary and sort it by values in descending order then get the top 3 and print them out\n",
    "books_dict = dict(zip(people, books_read))\n",
    "sorted_books = sorted(books_dict.items(), key=lambda item: item[1], reverse=True)\n",
    "top_three = sorted_books[:3]\n",
    "for person, books in top_three:\n",
    "    print(f'{person} has read {books} books')"
   ]
  },
  {
   "cell_type": "markdown",
   "metadata": {},
   "source": [
    "Bob's books gets a discount for every multiple of 3 books their employees buy and read. Find out how many multiples of 3 books they have read, and how many more books need to be read to get to the next multiple of 3. Python has a built-in `sum` function that may be useful here, and don't forget about the modulo operator."
   ]
  },
  {
   "cell_type": "code",
   "execution_count": 6,
   "metadata": {
    "ExecuteTime": {
     "end_time": "2023-11-13T02:21:46.474168Z",
     "start_time": "2023-11-13T02:21:46.415210Z"
    }
   },
   "outputs": [
    {
     "name": "stdout",
     "output_type": "stream",
     "text": [
      "They have read 18 multiples of 3 books.\n",
      "They need to read 0 more books to get to the next multiple of 3.\n"
     ]
    }
   ],
   "source": [
    "# Calculate the total number of books read and find out how many multiples of 3 books they have read\n",
    "total_books_read = sum(books_read)\n",
    "multiples_of_three = total_books_read // 3\n",
    "\n",
    "# Find out how many more books need to be read to get to the next multiple of 3\n",
    "books_to_next_multiple = 3 - (total_books_read % 3) if total_books_read % 3 != 0 else 0\n",
    "\n",
    "print(f'They have read {multiples_of_three} multiples of 3 books.')\n",
    "print(f'They need to read {books_to_next_multiple} more books to get to the next multiple of 3.')\n"
   ]
  },
  {
   "cell_type": "markdown",
   "metadata": {},
   "source": [
    "Create a dictionary for the data where the keys are people's names and the values are the number of books. An advanced way to do this would be with a dictionary comprehension, but you can also use a loop."
   ]
  },
  {
   "cell_type": "code",
   "execution_count": 7,
   "metadata": {
    "ExecuteTime": {
     "end_time": "2023-11-13T02:26:08.492980Z",
     "start_time": "2023-11-13T02:26:08.435313Z"
    }
   },
   "outputs": [],
   "source": [
    "# create a dictionary for the data above\n",
    "books_dict = dict(zip(people, books_read))"
   ]
  },
  {
   "cell_type": "markdown",
   "metadata": {},
   "source": [
    "Challenge: Use the dictionary to print out the top 3 people with the most books read. This is where Stack Overflow and searching the web might come in handy -- try searching 'sort dictionary by value in Python'."
   ]
  },
  {
   "cell_type": "code",
   "execution_count": 8,
   "metadata": {
    "ExecuteTime": {
     "end_time": "2023-11-13T02:27:38.521319Z",
     "start_time": "2023-11-13T02:27:38.490924Z"
    }
   },
   "outputs": [
    {
     "name": "stdout",
     "output_type": "stream",
     "text": [
      "Yulia has read 15 books\n",
      "Krishnang has read 12 books\n",
      "Robert has read 10 books\n"
     ]
    }
   ],
   "source": [
    "# Sort the dictionary by values in descending order, get the top three and print them out\n",
    "sorted_books = sorted(books_dict.items(), key=lambda item: item[1], reverse=True)\n",
    "top_three = sorted_books[:3]\n",
    "for person, books in top_three:\n",
    "    print(f'{person} has read {books} books')"
   ]
  },
  {
   "cell_type": "markdown",
   "metadata": {},
   "source": [
    "Using sets, ensure there are no duplicate names in our data. (Yes, this is trivial since our data is small and we can manually inspect it, but if we had thousands of names, we could use the same method as we do here.)"
   ]
  },
  {
   "cell_type": "code",
   "execution_count": 9,
   "metadata": {},
   "outputs": [
    {
     "name": "stdout",
     "output_type": "stream",
     "text": [
      "Krishnang has read 12 books\n",
      "Robert has read 10 books\n",
      "Yulia has read 15 books\n"
     ]
    }
   ],
   "source": [
    "# Use sets to ensure there are no duplicates in top three\n",
    "top_three_set = set(top_three)\n",
    "for person, books in top_three_set:\n",
    "    print(f'{person} has read {books} books')\n",
    "    \n",
    "\n"
   ]
  },
  {
   "cell_type": "markdown",
   "metadata": {},
   "source": [
    "Create a class for storing the books read and people's names. The class should also include a function for printing out the top three book readers. Test out your class to make sure it works."
   ]
  },
  {
   "cell_type": "code",
   "execution_count": 10,
   "metadata": {},
   "outputs": [],
   "source": [
    "# Create a class for storing the books read and people's names with an iterator\n",
    "class BooksRead:\n",
    "    def __init__(self, books_read, people):\n",
    "        self.books_read = books_read\n",
    "        self.people = people\n",
    "        self.index = 0\n",
    "        \n",
    "    def __iter__(self):\n",
    "        return self\n",
    "    \n",
    "    def __next__(self):\n",
    "        if self.index >= len(self.books_read):\n",
    "            raise StopIteration\n",
    "        book = self.books_read[self.index]\n",
    "        person = self.people[self.index]\n",
    "        self.index += 1\n",
    "        return book, person\n",
    "\n",
    "# function for printing out the top 3 book readers and ensure there are no duplicates in the top 3\n",
    "def print_top_three(books_read):\n",
    "    sorted_books = sorted(books_read, key=lambda item: item[1], reverse=True)\n",
    "    top_three = sorted_books[:3]\n",
    "    top_three_set = set(top_three)\n",
    "    for person, books in top_three_set:\n",
    "        print(f'{person} has read {books} books')"
   ]
  },
  {
   "cell_type": "markdown",
   "metadata": {},
   "source": [
    "Use the time module to see how long it takes to make a new class and print out the top three readers."
   ]
  },
  {
   "cell_type": "code",
   "execution_count": 11,
   "metadata": {},
   "outputs": [
    {
     "name": "stdout",
     "output_type": "stream",
     "text": [
      "6 has read Steve books\n",
      "15 has read Yulia books\n",
      "10 has read Robert books\n",
      "0.003581199999999285\n"
     ]
    }
   ],
   "source": [
    "# Use the timeit module to see how long it takes to run the print_top_three function 1000 times\n",
    "import timeit\n",
    "books_read = BooksRead(books_read, people)\n",
    "print(timeit.timeit(lambda: print_top_three(books_read), number=1000))"
   ]
  },
  {
   "cell_type": "markdown",
   "metadata": {},
   "source": [
    "Another way to do this is with the %%timeit magic command:"
   ]
  },
  {
   "cell_type": "markdown",
   "metadata": {},
   "source": [
    "The code below is throwing a few errors. Debug and correct the error so the code runs."
   ]
  },
  {
   "cell_type": "code",
   "execution_count": 12,
   "metadata": {},
   "outputs": [],
   "source": [
    "for b, p in list(zip(books_read, people))[:3]:\n",
    "    if b > 0 and b < 10:\n",
    "        print(p + ' has only read ' + str(b) + ' books')"
   ]
  },
  {
   "cell_type": "markdown",
   "metadata": {},
   "source": [
    "Use the documentation (https://docs.python.org/3/library/stdtypes.html#string-methods) to understand how the functions `rjust` and `ljust` work, then modify the loop below so the output looks something like:\n",
    "\n",
    "```\n",
    "Krishnang------12 books\n",
    "Steve---------- 6 books\n",
    "Jimmy---------- 0 books\n",
    "Mary----------- 7 books\n",
    "Divya---------- 4 books\n",
    "Robert---------10 books\n",
    "Yulia----------15 books\n",
    "```"
   ]
  },
  {
   "cell_type": "code",
   "execution_count": 13,
   "metadata": {},
   "outputs": [],
   "source": [
    "for b, p in zip(books_read, people):\n",
    "    print(f'{p.ljust(15, \"-\")} {str(b).rjust(2, \" \")} books')"
   ]
  }
 ],
 "metadata": {
  "kernelspec": {
   "display_name": "Python 3",
   "language": "python",
   "name": "python3"
  },
  "language_info": {
   "codemirror_mode": {
    "name": "ipython",
    "version": 3
   },
   "file_extension": ".py",
   "mimetype": "text/x-python",
   "name": "python",
   "nbconvert_exporter": "python",
   "pygments_lexer": "ipython3",
   "version": "3.9.5"
  }
 },
 "nbformat": 4,
 "nbformat_minor": 4
}
