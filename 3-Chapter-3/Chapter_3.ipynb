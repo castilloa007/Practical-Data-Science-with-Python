{
 "cells": [
  {
   "cell_type": "markdown",
   "metadata": {},
   "source": [
    "## Built-in read/write functions"
   ]
  },
  {
   "cell_type": "code",
   "execution_count": 1,
   "metadata": {
    "ExecuteTime": {
     "end_time": "2023-11-10T16:05:50.124331Z",
     "start_time": "2023-11-10T16:05:50.060202Z"
    }
   },
   "outputs": [],
   "source": [
    "# create our text file to read\n",
    "with open('textfile.txt', mode='w') as f:\n",
    "    f.writelines(['This is a text file.\\n', 'Now you can read it!'])"
   ]
  },
  {
   "cell_type": "code",
   "execution_count": 2,
   "metadata": {},
   "outputs": [
    {
     "data": {
      "text/plain": [
       "['This is a text file.\\n', 'Now you can read it!']"
      ]
     },
     "execution_count": 2,
     "metadata": {},
     "output_type": "execute_result"
    }
   ],
   "source": [
    "# open a file and read the contents\n",
    "file = open(file='textfile.txt', mode='r')\n",
    "text = file.readlines()\n",
    "text  # remember if our last line is a variable, jupyter notebook will print out that variable"
   ]
  },
  {
   "cell_type": "code",
   "execution_count": 3,
   "metadata": {},
   "outputs": [
    {
     "data": {
      "text/plain": [
       "<_io.TextIOWrapper name='textfile.txt' mode='r' encoding='cp1252'>"
      ]
     },
     "execution_count": 3,
     "metadata": {},
     "output_type": "execute_result"
    }
   ],
   "source": [
    "# this is the file object\n",
    "file"
   ]
  },
  {
   "cell_type": "code",
   "execution_count": 4,
   "metadata": {},
   "outputs": [],
   "source": [
    "# the file is 'open' until we close it.\n",
    "file.close()"
   ]
  },
  {
   "cell_type": "code",
   "execution_count": 5,
   "metadata": {},
   "outputs": [
    {
     "data": {
      "text/plain": [
       "['This is a text file.\\n', 'Now you can read it!']"
      ]
     },
     "execution_count": 5,
     "metadata": {},
     "output_type": "execute_result"
    }
   ],
   "source": [
    "# the 'with' context will automatically close the file once we are out of the 'with' section\n",
    "with open(file='textfile.txt', mode='r') as f:\n",
    "    text = f.readlines()\n",
    "\n",
    "text"
   ]
  },
  {
   "cell_type": "code",
   "execution_count": 6,
   "metadata": {},
   "outputs": [
    {
     "name": "stdout",
     "output_type": "stream",
     "text": [
      "This is a text file.\n",
      "Now you can read it!\n"
     ]
    }
   ],
   "source": [
    "# the read function reads the entire file at once\n",
    "with open(file='textfile.txt', mode='r') as f:\n",
    "    text = f.read()\n",
    "\n",
    "print(text)"
   ]
  },
  {
   "cell_type": "code",
   "execution_count": 7,
   "metadata": {},
   "outputs": [
    {
     "data": {
      "text/plain": [
       "'This is a '"
      ]
     },
     "execution_count": 7,
     "metadata": {},
     "output_type": "execute_result"
    }
   ],
   "source": [
    "# remember we can take a subset of strings like this\n",
    "text[:10]"
   ]
  },
  {
   "cell_type": "code",
   "execution_count": 8,
   "metadata": {},
   "outputs": [],
   "source": [
    "# writing to a file\n",
    "# open the file in a text editor to see the results, or read it with Python\n",
    "with open(file='writetest.txt', mode='w') as f:\n",
    "    f.write('testing writing out')"
   ]
  },
  {
   "cell_type": "code",
   "execution_count": 9,
   "metadata": {},
   "outputs": [],
   "source": [
    "# writing a list of text to a file\n",
    "# open the file in a text editor or read it through Python to see the results\n",
    "text_lines = ['This is text for testing writing.', 'Now you can write to a file!']\n",
    "with open(file='writetest2.txt', mode='w') as f:\n",
    "    f.writelines(text_lines)"
   ]
  },
  {
   "cell_type": "markdown",
   "metadata": {},
   "source": [
    "## JSON"
   ]
  },
  {
   "cell_type": "code",
   "execution_count": 10,
   "metadata": {},
   "outputs": [],
   "source": [
    "import json\n",
    "data_dictionary = {'books': 12, 'articles': 100, 'subjects': ['math', 'programming', 'data science']}"
   ]
  },
  {
   "cell_type": "code",
   "execution_count": 11,
   "metadata": {},
   "outputs": [
    {
     "data": {
      "text/plain": [
       "'{\"books\": 12, \"articles\": 100, \"subjects\": [\"math\", \"programming\", \"data science\"]}'"
      ]
     },
     "execution_count": 11,
     "metadata": {},
     "output_type": "execute_result"
    }
   ],
   "source": [
    "json_string = json.dumps(data_dictionary)\n",
    "json_string"
   ]
  },
  {
   "cell_type": "code",
   "execution_count": 12,
   "metadata": {},
   "outputs": [
    {
     "data": {
      "text/plain": [
       "{'books': 12,\n",
       " 'articles': 100,\n",
       " 'subjects': ['math', 'programming', 'data science']}"
      ]
     },
     "execution_count": 12,
     "metadata": {},
     "output_type": "execute_result"
    }
   ],
   "source": [
    "data_dict = json.loads(json_string)\n",
    "data_dict"
   ]
  },
  {
   "cell_type": "code",
   "execution_count": 13,
   "metadata": {},
   "outputs": [],
   "source": [
    "with open('reading.json', 'w') as f:\n",
    "    json.dump(data_dictionary, f)"
   ]
  },
  {
   "cell_type": "code",
   "execution_count": 14,
   "metadata": {},
   "outputs": [],
   "source": [
    "with open('reading.json') as f:\n",
    "    loaded_data = json.load(f)"
   ]
  },
  {
   "cell_type": "code",
   "execution_count": 15,
   "metadata": {},
   "outputs": [
    {
     "data": {
      "text/plain": [
       "{'books': 12,\n",
       " 'articles': 100,\n",
       " 'subjects': ['math', 'programming', 'data science']}"
      ]
     },
     "execution_count": 15,
     "metadata": {},
     "output_type": "execute_result"
    }
   ],
   "source": [
    "loaded_data"
   ]
  },
  {
   "cell_type": "markdown",
   "metadata": {},
   "source": [
    "## Credentials in a .py file"
   ]
  },
  {
   "cell_type": "code",
   "execution_count": 16,
   "metadata": {},
   "outputs": [
    {
     "name": "stdout",
     "output_type": "stream",
     "text": [
      "username: datasci\n",
      "password: iscool\n"
     ]
    }
   ],
   "source": [
    "import credentials as creds\n",
    "print(f'username: {creds.username}\\npassword: {creds.password}')"
   ]
  },
  {
   "cell_type": "markdown",
   "metadata": {},
   "source": [
    "## The pickle library\n",
    "pickle can be used for saving and loading raw Python objects."
   ]
  },
  {
   "cell_type": "code",
   "execution_count": 17,
   "metadata": {},
   "outputs": [],
   "source": [
    "import pickle as pk\n",
    "\n",
    "data_dictionary = {'books': 12, 'articles': 100, 'subjects': ['math', 'programming', 'data science']}\n",
    "\n",
    "with open('readings.pk', 'wb') as f:\n",
    "    pk.dump(data_dictionary, f)"
   ]
  },
  {
   "cell_type": "code",
   "execution_count": 18,
   "metadata": {},
   "outputs": [
    {
     "name": "stdout",
     "output_type": "stream",
     "text": [
      "{'books': 12, 'articles': 100, 'subjects': ['math', 'programming', 'data science']}\n"
     ]
    }
   ],
   "source": [
    "with open('readings.pk', 'rb') as f:\n",
    "    data = pk.load(f)\n",
    "\n",
    "print(data)"
   ]
  },
  {
   "cell_type": "markdown",
   "metadata": {},
   "source": [
    "## The joblib library\n",
    "We can also save and load data with joblib. First be sure to install it with `conda install -c conda-forge joblib -y` if you don't already have it installed. Joblib has extra features beyond pickle, such as compression, automatic opening and closing of files, and features to make saving/loading specific data (numpy arrays) faster. Pickle is often faster than joblib, except in special situations (which is why we didn't cover it in the book). This extra section is for your extra knowledge."
   ]
  },
  {
   "cell_type": "code",
   "execution_count": 19,
   "metadata": {},
   "outputs": [
    {
     "data": {
      "text/plain": [
       "['readings.job']"
      ]
     },
     "execution_count": 19,
     "metadata": {},
     "output_type": "execute_result"
    }
   ],
   "source": [
    "import joblib\n",
    "\n",
    "joblib.dump(value=data_dictionary, filename='readings.job', compress=True)"
   ]
  },
  {
   "cell_type": "code",
   "execution_count": 20,
   "metadata": {},
   "outputs": [
    {
     "data": {
      "text/plain": [
       "{'books': 12,\n",
       " 'articles': 100,\n",
       " 'subjects': ['math', 'programming', 'data science']}"
      ]
     },
     "execution_count": 20,
     "metadata": {},
     "output_type": "execute_result"
    }
   ],
   "source": [
    "data = joblib.load(filename='readings.job')\n",
    "data"
   ]
  },
  {
   "cell_type": "markdown",
   "metadata": {},
   "source": [
    "We can time how long something takes with the magic command `%%timeit` in Jupyter Notebooks. Note that pickle is faster for saving and reading this dictionary."
   ]
  },
  {
   "cell_type": "code",
   "execution_count": 21,
   "metadata": {},
   "outputs": [
    {
     "name": "stdout",
     "output_type": "stream",
     "text": [
      "450 µs ± 11.6 µs per loop (mean ± std. dev. of 7 runs, 1000 loops each)\n"
     ]
    }
   ],
   "source": [
    "%%timeit\n",
    "joblib.dump(value=data_dictionary, filename='readings.job', compress=True)"
   ]
  },
  {
   "cell_type": "code",
   "execution_count": 22,
   "metadata": {},
   "outputs": [
    {
     "name": "stdout",
     "output_type": "stream",
     "text": [
      "261 µs ± 18.9 µs per loop (mean ± std. dev. of 7 runs, 1000 loops each)\n"
     ]
    }
   ],
   "source": [
    "%%timeit\n",
    "with open('readings.pk', 'wb') as f:\n",
    "    pk.dump(data_dictionary, f)"
   ]
  },
  {
   "cell_type": "code",
   "execution_count": 23,
   "metadata": {},
   "outputs": [
    {
     "name": "stdout",
     "output_type": "stream",
     "text": [
      "223 µs ± 24.2 µs per loop (mean ± std. dev. of 7 runs, 1000 loops each)\n"
     ]
    }
   ],
   "source": [
    "%%timeit\n",
    "data = joblib.load(filename='readings.job')"
   ]
  },
  {
   "cell_type": "code",
   "execution_count": 24,
   "metadata": {},
   "outputs": [
    {
     "name": "stdout",
     "output_type": "stream",
     "text": [
      "65.4 µs ± 3.36 µs per loop (mean ± std. dev. of 7 runs, 10000 loops each)\n"
     ]
    }
   ],
   "source": [
    "%%timeit\n",
    "with open('readings.pk', 'rb') as f:\n",
    "    data = pk.load(f)"
   ]
  },
  {
   "cell_type": "markdown",
   "metadata": {},
   "source": [
    "We can see that for normal dictionaries, pickle is much faster for saving and loading than joblib."
   ]
  },
  {
   "cell_type": "markdown",
   "metadata": {},
   "source": [
    "## sqlite3"
   ]
  },
  {
   "cell_type": "markdown",
   "metadata": {},
   "source": [
    "When we install Python, we also install SQLite3. We can use it from within Python, but also from the command line. If we open a terminal and type `sqlite3`, it takes us to the SQLite shell. From the shell, we can run any SQLite command. For example, if we are in the directory with the chinook.db file from this GitHub repo (within the same folder that contains this notebook), we can type `.open chinook.db` to load the database. Then we can see the tables within the database with `.tables`. We can also connect to the database through Python and run commands as show below."
   ]
  },
  {
   "cell_type": "code",
   "execution_count": 25,
   "metadata": {},
   "outputs": [],
   "source": [
    "import sqlite3\n",
    "connection = sqlite3.connect('chinook.db')\n",
    "cursor = connection.cursor()"
   ]
  },
  {
   "cell_type": "code",
   "execution_count": 26,
   "metadata": {},
   "outputs": [
    {
     "data": {
      "text/plain": [
       "[('albums',),\n",
       " ('sqlite_sequence',),\n",
       " ('artists',),\n",
       " ('customers',),\n",
       " ('employees',),\n",
       " ('genres',),\n",
       " ('invoices',),\n",
       " ('invoice_items',),\n",
       " ('media_types',),\n",
       " ('playlists',),\n",
       " ('playlist_track',),\n",
       " ('tracks',),\n",
       " ('sqlite_stat1',)]"
      ]
     },
     "execution_count": 26,
     "metadata": {},
     "output_type": "execute_result"
    }
   ],
   "source": [
    "# list out tables -- .table does not work from Python sqlite3\n",
    "cursor.execute(\"SELECT name FROM sqlite_master WHERE type='table';\")\n",
    "cursor.fetchall()"
   ]
  },
  {
   "cell_type": "code",
   "execution_count": 27,
   "metadata": {},
   "outputs": [
    {
     "data": {
      "text/plain": [
       "[(0, 'ArtistId', 'INTEGER', 1, None, 1),\n",
       " (1, 'Name', 'NVARCHAR(120)', 0, None, 0)]"
      ]
     },
     "execution_count": 27,
     "metadata": {},
     "output_type": "execute_result"
    }
   ],
   "source": [
    "# get table information (column names, types, settings)\n",
    "cursor.execute('PRAGMA table_info(artists);')\n",
    "cursor.fetchall()"
   ]
  },
  {
   "cell_type": "code",
   "execution_count": 28,
   "metadata": {},
   "outputs": [
    {
     "data": {
      "text/plain": [
       "[(1, 'AC/DC'),\n",
       " (2, 'Accept'),\n",
       " (3, 'Aerosmith'),\n",
       " (4, 'Alanis Morissette'),\n",
       " (5, 'Alice In Chains')]"
      ]
     },
     "execution_count": 28,
     "metadata": {},
     "output_type": "execute_result"
    }
   ],
   "source": [
    "# SELECT the first 5 rows of artists\n",
    "cursor.execute('SELECT * FROM artists LIMIT 5;')\n",
    "cursor.fetchall()"
   ]
  },
  {
   "cell_type": "code",
   "execution_count": 29,
   "metadata": {},
   "outputs": [
    {
     "data": {
      "text/plain": [
       "[(1, 'AC/DC'),\n",
       " (2, 'Accept'),\n",
       " (3, 'Aerosmith'),\n",
       " (4, 'Alanis Morissette'),\n",
       " (5, 'Alice In Chains')]"
      ]
     },
     "execution_count": 29,
     "metadata": {},
     "output_type": "execute_result"
    }
   ],
   "source": [
    "# especially for longer queries, it helps to format them like this, with each SQL command on a separate line\n",
    "query = \"\"\"\n",
    "SELECT *\n",
    "FROM artists\n",
    "LIMIT 5;\n",
    "\"\"\"\n",
    "cursor.execute(query)\n",
    "cursor.fetchall()"
   ]
  },
  {
   "cell_type": "code",
   "execution_count": 30,
   "metadata": {},
   "outputs": [
    {
     "data": {
      "text/plain": [
       "[(0, 'InvoiceId', 'INTEGER', 1, None, 1),\n",
       " (1, 'CustomerId', 'INTEGER', 1, None, 0),\n",
       " (2, 'InvoiceDate', 'DATETIME', 1, None, 0),\n",
       " (3, 'BillingAddress', 'NVARCHAR(70)', 0, None, 0),\n",
       " (4, 'BillingCity', 'NVARCHAR(40)', 0, None, 0),\n",
       " (5, 'BillingState', 'NVARCHAR(40)', 0, None, 0),\n",
       " (6, 'BillingCountry', 'NVARCHAR(40)', 0, None, 0),\n",
       " (7, 'BillingPostalCode', 'NVARCHAR(10)', 0, None, 0),\n",
       " (8, 'Total', 'NUMERIC(10,2)', 1, None, 0)]"
      ]
     },
     "execution_count": 30,
     "metadata": {},
     "output_type": "execute_result"
    }
   ],
   "source": [
    "# get table information (column names, types, settings)\n",
    "cursor.execute('PRAGMA table_info(invoices);')\n",
    "cursor.fetchall()"
   ]
  },
  {
   "cell_type": "code",
   "execution_count": 31,
   "metadata": {},
   "outputs": [],
   "source": [
    "# save table column names in a list\n",
    "cursor.execute('PRAGMA table_info(invoices);')\n",
    "results = cursor.fetchall()\n",
    "column_names = [r[1] for r in results]"
   ]
  },
  {
   "cell_type": "code",
   "execution_count": 32,
   "metadata": {},
   "outputs": [
    {
     "data": {
      "text/plain": [
       "['InvoiceId',\n",
       " 'CustomerId',\n",
       " 'InvoiceDate',\n",
       " 'BillingAddress',\n",
       " 'BillingCity',\n",
       " 'BillingState',\n",
       " 'BillingCountry',\n",
       " 'BillingPostalCode',\n",
       " 'Total']"
      ]
     },
     "execution_count": 32,
     "metadata": {},
     "output_type": "execute_result"
    }
   ],
   "source": [
    "column_names"
   ]
  },
  {
   "cell_type": "code",
   "execution_count": 33,
   "metadata": {},
   "outputs": [
    {
     "data": {
      "text/plain": [
       "[(1,\n",
       "  2,\n",
       "  '2009-01-01 00:00:00',\n",
       "  'Theodor-Heuss-Straße 34',\n",
       "  'Stuttgart',\n",
       "  None,\n",
       "  'Germany',\n",
       "  '70174',\n",
       "  1.98),\n",
       " (2,\n",
       "  4,\n",
       "  '2009-01-02 00:00:00',\n",
       "  'Ullevålsveien 14',\n",
       "  'Oslo',\n",
       "  None,\n",
       "  'Norway',\n",
       "  '0171',\n",
       "  3.96),\n",
       " (3,\n",
       "  8,\n",
       "  '2009-01-03 00:00:00',\n",
       "  'Grétrystraat 63',\n",
       "  'Brussels',\n",
       "  None,\n",
       "  'Belgium',\n",
       "  '1000',\n",
       "  5.94),\n",
       " (4,\n",
       "  14,\n",
       "  '2009-01-06 00:00:00',\n",
       "  '8210 111 ST NW',\n",
       "  'Edmonton',\n",
       "  'AB',\n",
       "  'Canada',\n",
       "  'T6G 2C7',\n",
       "  8.91),\n",
       " (5,\n",
       "  23,\n",
       "  '2009-01-11 00:00:00',\n",
       "  '69 Salem Street',\n",
       "  'Boston',\n",
       "  'MA',\n",
       "  'USA',\n",
       "  '2113',\n",
       "  13.86)]"
      ]
     },
     "execution_count": 33,
     "metadata": {},
     "output_type": "execute_result"
    }
   ],
   "source": [
    "cursor.execute('SELECT * FROM invoices LIMIT 5;')\n",
    "cursor.fetchall()"
   ]
  },
  {
   "cell_type": "code",
   "execution_count": 34,
   "metadata": {},
   "outputs": [
    {
     "data": {
      "text/plain": [
       "[(25.86, '2013-11-13 00:00:00'),\n",
       " (23.86, '2012-08-05 00:00:00'),\n",
       " (21.86, '2010-02-18 00:00:00'),\n",
       " (21.86, '2011-04-28 00:00:00'),\n",
       " (18.86, '2010-01-18 00:00:00')]"
      ]
     },
     "execution_count": 34,
     "metadata": {},
     "output_type": "execute_result"
    }
   ],
   "source": [
    "# ORDER BY\n",
    "cursor.execute('SELECT Total, InvoiceDate from invoices ORDER BY Total DESC LIMIT 5;')\n",
    "cursor.fetchall()"
   ]
  },
  {
   "cell_type": "code",
   "execution_count": 35,
   "metadata": {},
   "outputs": [
    {
     "data": {
      "text/plain": [
       "[(8.91, 'Canada'),\n",
       " (8.91, 'Canada'),\n",
       " (0.99, 'Canada'),\n",
       " (1.98, 'Canada'),\n",
       " (13.86, 'Canada')]"
      ]
     },
     "execution_count": 35,
     "metadata": {},
     "output_type": "execute_result"
    }
   ],
   "source": [
    "# WHERE statement\n",
    "cursor.execute('SELECT Total, BillingCountry from invoices WHERE BillingCountry == \"Canada\" LIMIT 5;')\n",
    "cursor.fetchall()"
   ]
  },
  {
   "cell_type": "code",
   "execution_count": 36,
   "metadata": {},
   "outputs": [
    {
     "data": {
      "text/plain": [
       "[(8.91, 'Canada'),\n",
       " (8.91, 'Canada'),\n",
       " (0.99, 'Canada'),\n",
       " (1.98, 'Canada'),\n",
       " (13.86, 'Canada')]"
      ]
     },
     "execution_count": 36,
     "metadata": {},
     "output_type": "execute_result"
    }
   ],
   "source": [
    "# WHERE using an inserted argument\n",
    "cursor.execute('SELECT Total, BillingCountry from invoices WHERE BillingCountry == ? LIMIT 5;', ('Canada',))\n",
    "cursor.fetchall()"
   ]
  },
  {
   "cell_type": "code",
   "execution_count": 37,
   "metadata": {},
   "outputs": [
    {
     "data": {
      "text/plain": [
       "[(8.91, 'Canada'),\n",
       " (8.91, 'Canada'),\n",
       " (0.99, 'Canada'),\n",
       " (1.98, 'Canada'),\n",
       " (13.86, 'Canada')]"
      ]
     },
     "execution_count": 37,
     "metadata": {},
     "output_type": "execute_result"
    }
   ],
   "source": [
    "# LIKE command\n",
    "cursor.execute('SELECT Total, BillingCountry from invoices WHERE BillingCountry LIKE \"%can%\" LIMIT 5;')\n",
    "cursor.fetchall()"
   ]
  },
  {
   "cell_type": "code",
   "execution_count": 38,
   "metadata": {},
   "outputs": [
    {
     "data": {
      "text/plain": [
       "[(523.0600000000003, 'USA'),\n",
       " (303.9599999999999, 'Canada'),\n",
       " (195.09999999999994, 'France'),\n",
       " (190.09999999999997, 'Brazil'),\n",
       " (156.48, 'Germany')]"
      ]
     },
     "execution_count": 38,
     "metadata": {},
     "output_type": "execute_result"
    }
   ],
   "source": [
    "# GROUP BY statement\n",
    "cursor.execute('SELECT SUM(Total), BillingCountry from invoices GROUP BY BillingCountry ORDER BY SUM(Total) DESC LIMIT 5;')\n",
    "cursor.fetchall()"
   ]
  },
  {
   "cell_type": "code",
   "execution_count": 39,
   "metadata": {},
   "outputs": [
    {
     "data": {
      "text/plain": [
       "[(0, 'InvoiceLineId', 'INTEGER', 1, None, 1),\n",
       " (1, 'InvoiceId', 'INTEGER', 1, None, 0),\n",
       " (2, 'TrackId', 'INTEGER', 1, None, 0),\n",
       " (3, 'UnitPrice', 'NUMERIC(10,2)', 1, None, 0),\n",
       " (4, 'Quantity', 'INTEGER', 1, None, 0)]"
      ]
     },
     "execution_count": 39,
     "metadata": {},
     "output_type": "execute_result"
    }
   ],
   "source": [
    "# examine column names for invoice_items table\n",
    "cursor.execute('PRAGMA table_info(invoice_items);')\n",
    "cursor.fetchall()"
   ]
  },
  {
   "cell_type": "code",
   "execution_count": 40,
   "metadata": {},
   "outputs": [
    {
     "data": {
      "text/plain": [
       "[(1, 1, 2, 0.99, 1),\n",
       " (2, 1, 4, 0.99, 1),\n",
       " (3, 2, 6, 0.99, 1),\n",
       " (4, 2, 8, 0.99, 1),\n",
       " (5, 2, 10, 0.99, 1)]"
      ]
     },
     "execution_count": 40,
     "metadata": {},
     "output_type": "execute_result"
    }
   ],
   "source": [
    "# examine a sample of the data\n",
    "cursor.execute('SELECT * FROM invoice_items LIMIT 5;')\n",
    "cursor.fetchall()"
   ]
  },
  {
   "cell_type": "code",
   "execution_count": 41,
   "metadata": {},
   "outputs": [
    {
     "data": {
      "text/plain": [
       "[(2, 0.99), (4, 0.99), (6, 0.99), (8, 0.99), (10, 0.99)]"
      ]
     },
     "execution_count": 41,
     "metadata": {},
     "output_type": "execute_result"
    }
   ],
   "source": [
    "# aliases can be used to rename columns and tables\n",
    "# according to some SQL style guides, it's not best practice to alias a table\n",
    "cursor.execute('SELECT i.TrackID as tid, i.UnitPrice as up FROM invoice_items as i LIMIT 5;')\n",
    "cursor.fetchall()"
   ]
  },
  {
   "cell_type": "code",
   "execution_count": 42,
   "metadata": {},
   "outputs": [
    {
     "data": {
      "text/plain": [
       "[(0.99,), (1.99,)]"
      ]
     },
     "execution_count": 42,
     "metadata": {},
     "output_type": "execute_result"
    }
   ],
   "source": [
    "# DISTINCT\n",
    "cursor.execute('SELECT DISTINCT UnitPrice FROM invoice_items;')\n",
    "cursor.fetchall()"
   ]
  },
  {
   "cell_type": "code",
   "execution_count": 43,
   "metadata": {},
   "outputs": [
    {
     "data": {
      "text/plain": [
       "[('Germany', 2), ('Germany', 4), ('Norway', 6), ('Norway', 8), ('Norway', 10)]"
      ]
     },
     "execution_count": 43,
     "metadata": {},
     "output_type": "execute_result"
    }
   ],
   "source": [
    "# JOIN\n",
    "# get tracks that were purchased and combine with the country\n",
    "query = \"\"\"\n",
    "SELECT invoices.BillingCountry, invoice_items.TrackId\n",
    "FROM invoices\n",
    "JOIN invoice_items\n",
    "ON invoices.InvoiceId = invoice_items.InvoiceId\n",
    "LIMIT 5;\n",
    "\"\"\"\n",
    "cursor.execute(query)\n",
    "cursor.fetchall()"
   ]
  },
  {
   "cell_type": "code",
   "execution_count": 44,
   "metadata": {},
   "outputs": [
    {
     "data": {
      "text/plain": [
       "[(99, 494, 'USA'),\n",
       " (42, 304, 'Canada'),\n",
       " (234, 190, 'France'),\n",
       " (738, 190, 'Brazil'),\n",
       " (2, 152, 'Germany')]"
      ]
     },
     "execution_count": 44,
     "metadata": {},
     "output_type": "execute_result"
    }
   ],
   "source": [
    "# get number of purchased tracks for each track by country, sorted by the top-most purchased\n",
    "query = \"\"\"\n",
    "SELECT invoice_items.TrackId, COUNT(invoice_items.TrackId), invoices.BillingCountry\n",
    "FROM invoices\n",
    "JOIN invoice_items\n",
    "ON invoices.InvoiceId = invoice_items.InvoiceId\n",
    "GROUP BY invoices.BillingCountry\n",
    "ORDER BY COUNT(invoice_items.TrackId) DESC\n",
    "LIMIT 5;\n",
    "\"\"\"\n",
    "cursor.execute(query)\n",
    "cursor.fetchall()"
   ]
  },
  {
   "cell_type": "code",
   "execution_count": 45,
   "metadata": {},
   "outputs": [
    {
     "data": {
      "text/plain": [
       "[('Your Time Has Come', 494, 'USA'),\n",
       " ('Right Through You', 304, 'Canada'),\n",
       " ('Morena De Angola', 190, 'France'),\n",
       " ('Admirável Gado Novo', 190, 'Brazil'),\n",
       " ('Balls to the Wall', 152, 'Germany')]"
      ]
     },
     "execution_count": 45,
     "metadata": {},
     "output_type": "execute_result"
    }
   ],
   "source": [
    "# multiple JOINs\n",
    "query = \"\"\"\n",
    "SELECT tracks.Name, COUNT(invoice_items.TrackId), invoices.BillingCountry\n",
    "FROM invoices\n",
    "JOIN invoice_items\n",
    "ON invoices.InvoiceId = invoice_items.InvoiceId\n",
    "JOIN tracks\n",
    "ON tracks.TrackId = invoice_items.TrackId\n",
    "GROUP BY invoices.BillingCountry\n",
    "ORDER BY COUNT(invoice_items.TrackId) DESC\n",
    "LIMIT 5;\n",
    "\"\"\"\n",
    "cursor.execute(query)\n",
    "cursor.fetchall()"
   ]
  },
  {
   "cell_type": "code",
   "execution_count": 46,
   "metadata": {},
   "outputs": [
    {
     "data": {
      "text/plain": [
       "[('Your Time Has Come', 494, 'USA'),\n",
       " ('Right Through You', 304, 'Canada'),\n",
       " ('Admirável Gado Novo', 190, 'Brazil'),\n",
       " ('Morena De Angola', 190, 'France'),\n",
       " ('Balls to the Wall', 152, 'Germany')]"
      ]
     },
     "execution_count": 46,
     "metadata": {},
     "output_type": "execute_result"
    }
   ],
   "source": [
    "# this same command as above can also be done with a subquery like this, but is easier with multiple joins\n",
    "query = \"\"\"\n",
    "SELECT tracks.Name, invoice_merged.track_count, invoice_merged.BillingCountry\n",
    "FROM\n",
    "    (SELECT ii.TrackId, COUNT(ii.TrackId) as track_count, i.BillingCountry\n",
    "    FROM invoices as i\n",
    "    JOIN invoice_items as ii\n",
    "    ON i.InvoiceId = ii.InvoiceId\n",
    "    GROUP BY BillingCountry) as invoice_merged\n",
    "JOIN tracks\n",
    "ON tracks.TrackId = invoice_merged.TrackId\n",
    "ORDER BY track_count DESC\n",
    "LIMIT 5;\n",
    "\"\"\"\n",
    "cursor.execute(query)\n",
    "cursor.fetchall()"
   ]
  },
  {
   "cell_type": "code",
   "execution_count": 47,
   "metadata": {},
   "outputs": [],
   "source": [
    "# be sure to close the connection when done\n",
    "connection.close()"
   ]
  },
  {
   "cell_type": "markdown",
   "metadata": {},
   "source": [
    "### Storing data in a sqlite3 database"
   ]
  },
  {
   "cell_type": "code",
   "execution_count": 48,
   "metadata": {},
   "outputs": [],
   "source": [
    "# hypothetical book sales data\n",
    "book_data = [('12-1-2020', 'Practical Data Science With Python', 19.99, 1),\n",
    "       ('12-15-2020', 'Python Machine Learning', 27.99, 1),\n",
    "       ('12-17-2020', 'Machine Learning For Algorithmic Trading', 34.99, 1)]"
   ]
  },
  {
   "cell_type": "code",
   "execution_count": 49,
   "metadata": {},
   "outputs": [],
   "source": [
    "# CREATE and INSERT\n",
    "connection = sqlite3.connect('book_sales.db')\n",
    "cursor = connection.cursor()"
   ]
  },
  {
   "cell_type": "code",
   "execution_count": 50,
   "metadata": {},
   "outputs": [
    {
     "data": {
      "text/plain": [
       "<sqlite3.Cursor at 0x1d4e04f4570>"
      ]
     },
     "execution_count": 50,
     "metadata": {},
     "output_type": "execute_result"
    }
   ],
   "source": [
    "# Create table\n",
    "cursor.execute('''CREATE TABLE IF NOT EXISTS book_sales\n",
    "             (date text, book_title text, price real, quantity real)''')"
   ]
  },
  {
   "cell_type": "code",
   "execution_count": 51,
   "metadata": {},
   "outputs": [
    {
     "data": {
      "text/plain": [
       "[('book_sales',)]"
      ]
     },
     "execution_count": 51,
     "metadata": {},
     "output_type": "execute_result"
    }
   ],
   "source": [
    "# the table is now there\n",
    "cursor.execute(\"SELECT name FROM sqlite_master WHERE type='table';\")\n",
    "cursor.fetchall()"
   ]
  },
  {
   "cell_type": "code",
   "execution_count": 52,
   "metadata": {},
   "outputs": [
    {
     "data": {
      "text/plain": [
       "<sqlite3.Cursor at 0x1d4e04f4570>"
      ]
     },
     "execution_count": 52,
     "metadata": {},
     "output_type": "execute_result"
    }
   ],
   "source": [
    "# Insert a row of data\n",
    "cursor.execute(\"INSERT INTO book_sales VALUES (?, ?, ?, ?)\", book_data[0])"
   ]
  },
  {
   "cell_type": "code",
   "execution_count": 53,
   "metadata": {},
   "outputs": [
    {
     "data": {
      "text/plain": [
       "[('12-1-2020', 'Practical Data Science With Python', 19.99, 1.0)]"
      ]
     },
     "execution_count": 53,
     "metadata": {},
     "output_type": "execute_result"
    }
   ],
   "source": [
    "cursor.execute('SELECT * FROM book_sales ;')\n",
    "cursor.fetchall()"
   ]
  },
  {
   "cell_type": "code",
   "execution_count": 54,
   "metadata": {},
   "outputs": [],
   "source": [
    "# Save the changes with .commit()\n",
    "# Without this line, the inserted data will not be saved in the database after we close the connection\n",
    "connection.commit()"
   ]
  },
  {
   "cell_type": "code",
   "execution_count": 55,
   "metadata": {},
   "outputs": [],
   "source": [
    "# insert several records at a time\n",
    "cursor.executemany('INSERT INTO book_sales VALUES (?, ?, ?, ?)', book_data[1:])\n",
    "# don't forget to save the changes\n",
    "connection.commit()"
   ]
  },
  {
   "cell_type": "code",
   "execution_count": 56,
   "metadata": {},
   "outputs": [
    {
     "data": {
      "text/plain": [
       "[('12-1-2020', 'Practical Data Science With Python', 19.99, 1.0),\n",
       " ('12-15-2020', 'Python Machine Learning', 27.99, 1.0),\n",
       " ('12-17-2020', 'Machine Learning For Algorithmic Trading', 34.99, 1.0)]"
      ]
     },
     "execution_count": 56,
     "metadata": {},
     "output_type": "execute_result"
    }
   ],
   "source": [
    "cursor.execute('SELECT * FROM book_sales;')\n",
    "cursor.fetchall()"
   ]
  },
  {
   "cell_type": "code",
   "execution_count": 57,
   "metadata": {},
   "outputs": [],
   "source": [
    "connection.close()"
   ]
  },
  {
   "cell_type": "markdown",
   "metadata": {},
   "source": [
    "## SQLAlchemy"
   ]
  },
  {
   "cell_type": "code",
   "execution_count": 58,
   "metadata": {},
   "outputs": [],
   "source": [
    "from sqlalchemy import create_engine\n",
    "engine = create_engine('sqlite:///book_sales.db')\n",
    "connection = engine.connect()"
   ]
  },
  {
   "cell_type": "code",
   "execution_count": 59,
   "metadata": {},
   "outputs": [
    {
     "data": {
      "text/plain": [
       "<sqlalchemy.engine.cursor.LegacyCursorResult at 0x1d4e14d3b80>"
      ]
     },
     "execution_count": 59,
     "metadata": {},
     "output_type": "execute_result"
    }
   ],
   "source": [
    "result = connection.execute(\"select * from book_sales\")\n",
    "result"
   ]
  },
  {
   "cell_type": "code",
   "execution_count": 60,
   "metadata": {},
   "outputs": [
    {
     "data": {
      "text/plain": [
       "[('12-1-2020', 'Practical Data Science With Python', 19.99, 1.0),\n",
       " ('12-15-2020', 'Python Machine Learning', 27.99, 1.0),\n",
       " ('12-17-2020', 'Machine Learning For Algorithmic Trading', 34.99, 1.0)]"
      ]
     },
     "execution_count": 60,
     "metadata": {},
     "output_type": "execute_result"
    }
   ],
   "source": [
    "list(result)"
   ]
  },
  {
   "cell_type": "code",
   "execution_count": 61,
   "metadata": {},
   "outputs": [],
   "source": [
    "for row in result:\n",
    "    print(row['date'])"
   ]
  },
  {
   "cell_type": "code",
   "execution_count": 62,
   "metadata": {},
   "outputs": [
    {
     "name": "stdout",
     "output_type": "stream",
     "text": [
      "12-1-2020\n",
      "12-15-2020\n",
      "12-17-2020\n"
     ]
    }
   ],
   "source": [
    "result = connection.execute(\"select * from book_sales\")\n",
    "for row in result:\n",
    "    print(row['date'])"
   ]
  },
  {
   "cell_type": "code",
   "execution_count": 63,
   "metadata": {},
   "outputs": [],
   "source": [
    "# be sure to close the connection when finished\n",
    "connection.close()"
   ]
  },
  {
   "cell_type": "code",
   "execution_count": 64,
   "metadata": {},
   "outputs": [
    {
     "name": "stdout",
     "output_type": "stream",
     "text": [
      "('12-1-2020', 'Practical Data Science With Python', 19.99, 1.0)\n",
      "('12-15-2020', 'Python Machine Learning', 27.99, 1.0)\n",
      "('12-17-2020', 'Machine Learning For Algorithmic Trading', 34.99, 1.0)\n"
     ]
    }
   ],
   "source": [
    "# we can also use the with clause to automatically close the connection\n",
    "with engine.connect() as connection:\n",
    "    result = connection.execute(\"select * from book_sales\")\n",
    "    for row in result:\n",
    "        print(row)"
   ]
  },
  {
   "cell_type": "code",
   "execution_count": 65,
   "metadata": {},
   "outputs": [
    {
     "data": {
      "text/plain": [
       "True"
      ]
     },
     "execution_count": 65,
     "metadata": {},
     "output_type": "execute_result"
    }
   ],
   "source": [
    "connection.closed"
   ]
  },
  {
   "cell_type": "code",
   "execution_count": 66,
   "metadata": {},
   "outputs": [
    {
     "ename": "ResourceClosedError",
     "evalue": "This Connection is closed",
     "output_type": "error",
     "traceback": [
      "\u001B[1;31m---------------------------------------------------------------------------\u001B[0m",
      "\u001B[1;31mResourceClosedError\u001B[0m                       Traceback (most recent call last)",
      "\u001B[1;32m<ipython-input-66-bbec3b26a7de>\u001B[0m in \u001B[0;36m<module>\u001B[1;34m\u001B[0m\n\u001B[0;32m      1\u001B[0m \u001B[1;31m# the connection is closed from the 'with' statement, so we can't use it\u001B[0m\u001B[1;33m\u001B[0m\u001B[1;33m\u001B[0m\u001B[1;33m\u001B[0m\u001B[0m\n\u001B[0;32m      2\u001B[0m \u001B[1;31m# notice in the middle and at the bottom of the error, it says 'This Connection is closed'\u001B[0m\u001B[1;33m\u001B[0m\u001B[1;33m\u001B[0m\u001B[1;33m\u001B[0m\u001B[0m\n\u001B[1;32m----> 3\u001B[1;33m \u001B[0mresult\u001B[0m \u001B[1;33m=\u001B[0m \u001B[0mconnection\u001B[0m\u001B[1;33m.\u001B[0m\u001B[0mexecute\u001B[0m\u001B[1;33m(\u001B[0m\u001B[1;34m\"select * from book_sales\"\u001B[0m\u001B[1;33m)\u001B[0m\u001B[1;33m\u001B[0m\u001B[1;33m\u001B[0m\u001B[0m\n\u001B[0m",
      "\u001B[1;32m~\\Anaconda3\\envs\\datasci\\lib\\site-packages\\sqlalchemy\\engine\\base.py\u001B[0m in \u001B[0;36mexecute\u001B[1;34m(self, statement, *multiparams, **params)\u001B[0m\n\u001B[0;32m   1245\u001B[0m             )\n\u001B[0;32m   1246\u001B[0m \u001B[1;33m\u001B[0m\u001B[0m\n\u001B[1;32m-> 1247\u001B[1;33m             return self._exec_driver_sql(\n\u001B[0m\u001B[0;32m   1248\u001B[0m                 \u001B[0mstatement\u001B[0m\u001B[1;33m,\u001B[0m\u001B[1;33m\u001B[0m\u001B[1;33m\u001B[0m\u001B[0m\n\u001B[0;32m   1249\u001B[0m                 \u001B[0mmultiparams\u001B[0m\u001B[1;33m,\u001B[0m\u001B[1;33m\u001B[0m\u001B[1;33m\u001B[0m\u001B[0m\n",
      "\u001B[1;32m~\\Anaconda3\\envs\\datasci\\lib\\site-packages\\sqlalchemy\\engine\\base.py\u001B[0m in \u001B[0;36m_exec_driver_sql\u001B[1;34m(self, statement, multiparams, params, execution_options, future)\u001B[0m\n\u001B[0;32m   1544\u001B[0m \u001B[1;33m\u001B[0m\u001B[0m\n\u001B[0;32m   1545\u001B[0m         \u001B[0mdialect\u001B[0m \u001B[1;33m=\u001B[0m \u001B[0mself\u001B[0m\u001B[1;33m.\u001B[0m\u001B[0mdialect\u001B[0m\u001B[1;33m\u001B[0m\u001B[1;33m\u001B[0m\u001B[0m\n\u001B[1;32m-> 1546\u001B[1;33m         ret = self._execute_context(\n\u001B[0m\u001B[0;32m   1547\u001B[0m             \u001B[0mdialect\u001B[0m\u001B[1;33m,\u001B[0m\u001B[1;33m\u001B[0m\u001B[1;33m\u001B[0m\u001B[0m\n\u001B[0;32m   1548\u001B[0m             \u001B[0mdialect\u001B[0m\u001B[1;33m.\u001B[0m\u001B[0mexecution_ctx_cls\u001B[0m\u001B[1;33m.\u001B[0m\u001B[0m_init_statement\u001B[0m\u001B[1;33m,\u001B[0m\u001B[1;33m\u001B[0m\u001B[1;33m\u001B[0m\u001B[0m\n",
      "\u001B[1;32m~\\Anaconda3\\envs\\datasci\\lib\\site-packages\\sqlalchemy\\engine\\base.py\u001B[0m in \u001B[0;36m_execute_context\u001B[1;34m(self, dialect, constructor, statement, parameters, execution_options, *args, **kw)\u001B[0m\n\u001B[0;32m   1666\u001B[0m             \u001B[0mconn\u001B[0m \u001B[1;33m=\u001B[0m \u001B[0mself\u001B[0m\u001B[1;33m.\u001B[0m\u001B[0m_dbapi_connection\u001B[0m\u001B[1;33m\u001B[0m\u001B[1;33m\u001B[0m\u001B[0m\n\u001B[0;32m   1667\u001B[0m             \u001B[1;32mif\u001B[0m \u001B[0mconn\u001B[0m \u001B[1;32mis\u001B[0m \u001B[1;32mNone\u001B[0m\u001B[1;33m:\u001B[0m\u001B[1;33m\u001B[0m\u001B[1;33m\u001B[0m\u001B[0m\n\u001B[1;32m-> 1668\u001B[1;33m                 \u001B[0mconn\u001B[0m \u001B[1;33m=\u001B[0m \u001B[0mself\u001B[0m\u001B[1;33m.\u001B[0m\u001B[0m_revalidate_connection\u001B[0m\u001B[1;33m(\u001B[0m\u001B[1;33m)\u001B[0m\u001B[1;33m\u001B[0m\u001B[1;33m\u001B[0m\u001B[0m\n\u001B[0m\u001B[0;32m   1669\u001B[0m \u001B[1;33m\u001B[0m\u001B[0m\n\u001B[0;32m   1670\u001B[0m             context = constructor(\n",
      "\u001B[1;32m~\\Anaconda3\\envs\\datasci\\lib\\site-packages\\sqlalchemy\\engine\\base.py\u001B[0m in \u001B[0;36m_revalidate_connection\u001B[1;34m(self)\u001B[0m\n\u001B[0;32m    563\u001B[0m             )\n\u001B[0;32m    564\u001B[0m             \u001B[1;32mreturn\u001B[0m \u001B[0mself\u001B[0m\u001B[1;33m.\u001B[0m\u001B[0m_dbapi_connection\u001B[0m\u001B[1;33m\u001B[0m\u001B[1;33m\u001B[0m\u001B[0m\n\u001B[1;32m--> 565\u001B[1;33m         \u001B[1;32mraise\u001B[0m \u001B[0mexc\u001B[0m\u001B[1;33m.\u001B[0m\u001B[0mResourceClosedError\u001B[0m\u001B[1;33m(\u001B[0m\u001B[1;34m\"This Connection is closed\"\u001B[0m\u001B[1;33m)\u001B[0m\u001B[1;33m\u001B[0m\u001B[1;33m\u001B[0m\u001B[0m\n\u001B[0m\u001B[0;32m    566\u001B[0m \u001B[1;33m\u001B[0m\u001B[0m\n\u001B[0;32m    567\u001B[0m     \u001B[1;33m@\u001B[0m\u001B[0mproperty\u001B[0m\u001B[1;33m\u001B[0m\u001B[1;33m\u001B[0m\u001B[0m\n",
      "\u001B[1;31mResourceClosedError\u001B[0m: This Connection is closed"
     ]
    }
   ],
   "source": [
    "# the connection is closed from the 'with' statement, so we can't use it\n",
    "# notice in the middle and at the bottom of the error, it says 'This Connection is closed'\n",
    "result = connection.execute(\"select * from book_sales\")"
   ]
  },
  {
   "cell_type": "code",
   "execution_count": 67,
   "metadata": {},
   "outputs": [],
   "source": [
    "from sqlalchemy import MetaData, Table\n",
    "\n",
    "metadata = MetaData(engine)\n",
    "book_sales = Table('book_sales', metadata, autoload=True)\n",
    "conn = engine.connect()"
   ]
  },
  {
   "cell_type": "code",
   "execution_count": 68,
   "metadata": {},
   "outputs": [
    {
     "name": "stdout",
     "output_type": "stream",
     "text": [
      "('12-1-2020', 'Practical Data Science With Python', 19.99, 1.0)\n",
      "('12-15-2020', 'Python Machine Learning', 27.99, 1.0)\n",
      "('12-17-2020', 'Machine Learning For Algorithmic Trading', 34.99, 1.0)\n"
     ]
    }
   ],
   "source": [
    "res = conn.execute(book_sales.select())\n",
    "for r in res:\n",
    "    print(r)"
   ]
  },
  {
   "cell_type": "code",
   "execution_count": 69,
   "metadata": {},
   "outputs": [
    {
     "data": {
      "text/plain": [
       "<sqlalchemy.engine.cursor.LegacyCursorResult at 0x1d4e04ce640>"
      ]
     },
     "execution_count": 69,
     "metadata": {},
     "output_type": "execute_result"
    }
   ],
   "source": [
    "ins = book_sales.insert().values(book_title='machine learining', price='10.99')\n",
    "conn.execute(ins)"
   ]
  },
  {
   "cell_type": "code",
   "execution_count": 70,
   "metadata": {},
   "outputs": [
    {
     "name": "stdout",
     "output_type": "stream",
     "text": [
      "('12-1-2020', 'Practical Data Science With Python', 19.99, 1.0)\n",
      "('12-15-2020', 'Python Machine Learning', 27.99, 1.0)\n",
      "('12-17-2020', 'Machine Learning For Algorithmic Trading', 34.99, 1.0)\n",
      "(None, 'machine learining', 10.99, None)\n"
     ]
    }
   ],
   "source": [
    "res = conn.execute(book_sales.select())\n",
    "for r in res:\n",
    "    print(r)"
   ]
  }
 ],
 "metadata": {
  "kernelspec": {
   "display_name": "Python 3",
   "language": "python",
   "name": "python3"
  },
  "language_info": {
   "codemirror_mode": {
    "name": "ipython",
    "version": 3
   },
   "file_extension": ".py",
   "mimetype": "text/x-python",
   "name": "python",
   "nbconvert_exporter": "python",
   "pygments_lexer": "ipython3",
   "version": "3.8.8"
  }
 },
 "nbformat": 4,
 "nbformat_minor": 4
}
